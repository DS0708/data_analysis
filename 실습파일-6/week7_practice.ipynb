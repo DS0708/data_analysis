{
 "cells": [
  {
   "cell_type": "code",
   "execution_count": 10,
   "metadata": {},
   "outputs": [
    {
     "name": "stdout",
     "output_type": "stream",
     "text": [
      "     survived  pclass     sex   age  sibsp  parch     fare embarked   class  \\\n",
      "0           0       3    male  22.0      1      0   7.2500        S   Third   \n",
      "1           1       1  female  38.0      1      0  71.2833        C   First   \n",
      "2           1       3  female  26.0      0      0   7.9250        S   Third   \n",
      "3           1       1  female  35.0      1      0  53.1000        S   First   \n",
      "4           0       3    male  35.0      0      0   8.0500        S   Third   \n",
      "..        ...     ...     ...   ...    ...    ...      ...      ...     ...   \n",
      "886         0       2    male  27.0      0      0  13.0000        S  Second   \n",
      "887         1       1  female  19.0      0      0  30.0000        S   First   \n",
      "888         0       3  female   NaN      1      2  23.4500        S   Third   \n",
      "889         1       1    male  26.0      0      0  30.0000        C   First   \n",
      "890         0       3    male  32.0      0      0   7.7500        Q   Third   \n",
      "\n",
      "       who  adult_male deck  embark_town alive  alone  \n",
      "0      man        True  NaN  Southampton    no  False  \n",
      "1    woman       False    C    Cherbourg   yes  False  \n",
      "2    woman       False  NaN  Southampton   yes   True  \n",
      "3    woman       False    C  Southampton   yes  False  \n",
      "4      man        True  NaN  Southampton    no   True  \n",
      "..     ...         ...  ...          ...   ...    ...  \n",
      "886    man        True  NaN  Southampton    no   True  \n",
      "887  woman       False    B  Southampton   yes   True  \n",
      "888  woman       False  NaN  Southampton    no  False  \n",
      "889    man        True    C    Cherbourg   yes   True  \n",
      "890    man        True  NaN   Queenstown    no   True  \n",
      "\n",
      "[891 rows x 15 columns]\n",
      "\n"
     ]
    }
   ],
   "source": [
    "# Data Preprocessing (데이터 전처리)\n",
    "import pandas as pd\n",
    "df = pd.read_excel(\"titanic.xlsx\")\n",
    "print(df)\n",
    "print()"
   ]
  },
  {
   "cell_type": "code",
   "execution_count": 11,
   "metadata": {},
   "outputs": [
    {
     "name": "stdout",
     "output_type": "stream",
     "text": [
      "deck\n",
      "NaN    688\n",
      "C       59\n",
      "B       47\n",
      "D       33\n",
      "E       32\n",
      "A       15\n",
      "F       13\n",
      "G        4\n",
      "Name: count, dtype: int64\n",
      "\n"
     ]
    }
   ],
   "source": [
    "# 결측값 처리하기\n",
    "\n",
    "# value_counts(dropna=False) : 결측값(NaN)을 제외하지 않고, 결측값도 빈도에 포함\n",
    "nan_deck = df['deck'].value_counts(dropna=False) \n",
    "print(nan_deck)\n",
    "print()"
   ]
  },
  {
   "cell_type": "code",
   "execution_count": 8,
   "metadata": {},
   "outputs": [
    {
     "name": "stdout",
     "output_type": "stream",
     "text": [
      "   survived  pclass    sex    age  sibsp  parch   fare  embarked  class  \\\n",
      "0     False   False  False  False  False  False  False     False  False   \n",
      "1     False   False  False  False  False  False  False     False  False   \n",
      "2     False   False  False  False  False  False  False     False  False   \n",
      "3     False   False  False  False  False  False  False     False  False   \n",
      "4     False   False  False  False  False  False  False     False  False   \n",
      "\n",
      "     who  adult_male   deck  embark_town  alive  alone  \n",
      "0  False       False   True        False  False  False  \n",
      "1  False       False  False        False  False  False  \n",
      "2  False       False   True        False  False  False  \n",
      "3  False       False  False        False  False  False  \n",
      "4  False       False   True        False  False  False  \n"
     ]
    }
   ],
   "source": [
    "# df.head()는 데이터프레임의 상위 5개 행을 반환\n",
    "# isnull()은 각 셀에 결측값(NaN)이 있는지 여부를 확인하는 함수로, 결측값이 있는 셀은 True, 없는 셀은 False를 반환\n",
    "print(df.head().isnull())"
   ]
  },
  {
   "cell_type": "code",
   "execution_count": 9,
   "metadata": {},
   "outputs": [
    {
     "name": "stdout",
     "output_type": "stream",
     "text": [
      "   survived  pclass   sex   age  sibsp  parch  fare  embarked  class   who  \\\n",
      "0      True    True  True  True   True   True  True      True   True  True   \n",
      "1      True    True  True  True   True   True  True      True   True  True   \n",
      "2      True    True  True  True   True   True  True      True   True  True   \n",
      "3      True    True  True  True   True   True  True      True   True  True   \n",
      "4      True    True  True  True   True   True  True      True   True  True   \n",
      "\n",
      "   adult_male   deck  embark_town  alive  alone  \n",
      "0        True  False         True   True   True  \n",
      "1        True   True         True   True   True  \n",
      "2        True  False         True   True   True  \n",
      "3        True   True         True   True   True  \n",
      "4        True  False         True   True   True  \n"
     ]
    }
   ],
   "source": [
    "# 각 셀이 결측값이 아니라면 True, 결측값이라면 False를 반환\n",
    "print(df.head().notnull())"
   ]
  },
  {
   "cell_type": "code",
   "execution_count": 7,
   "metadata": {},
   "outputs": [
    {
     "name": "stdout",
     "output_type": "stream",
     "text": [
      "survived       0\n",
      "pclass         0\n",
      "sex            0\n",
      "age            0\n",
      "sibsp          0\n",
      "parch          0\n",
      "fare           0\n",
      "embarked       0\n",
      "class          0\n",
      "who            0\n",
      "adult_male     0\n",
      "deck           3\n",
      "embark_town    0\n",
      "alive          0\n",
      "alone          0\n",
      "dtype: int64\n"
     ]
    }
   ],
   "source": [
    "# sum(axis=0)은 열 단위로 True의 개수를 셈\n",
    "print(df.head().isnull().sum(axis=0))"
   ]
  },
  {
   "cell_type": "code",
   "execution_count": 13,
   "metadata": {},
   "outputs": [
    {
     "name": "stdout",
     "output_type": "stream",
     "text": [
      "0    22.0\n",
      "1    38.0\n",
      "2    26.0\n",
      "3    35.0\n",
      "4    35.0\n",
      "5     NaN\n",
      "6    54.0\n",
      "7     2.0\n",
      "8    27.0\n",
      "9    14.0\n",
      "Name: age, dtype: float64\n",
      "\n",
      "0    22.000000\n",
      "1    38.000000\n",
      "2    26.000000\n",
      "3    35.000000\n",
      "4    35.000000\n",
      "5    29.699118\n",
      "6    54.000000\n",
      "7     2.000000\n",
      "8    27.000000\n",
      "9    14.000000\n",
      "Name: age, dtype: float64\n",
      "\n"
     ]
    },
    {
     "name": "stderr",
     "output_type": "stream",
     "text": [
      "/var/folders/jg/4s9vwdvj78b4mywd_ds9z14r0000gn/T/ipykernel_58549/2712848575.py:13: FutureWarning: A value is trying to be set on a copy of a DataFrame or Series through chained assignment using an inplace method.\n",
      "The behavior will change in pandas 3.0. This inplace method will never work because the intermediate object on which we are setting values always behaves as a copy.\n",
      "\n",
      "For example, when doing 'df[col].method(value, inplace=True)', try using 'df.method({col: value}, inplace=True)' or df[col] = df[col].method(value) instead, to perform the operation inplace on the original object.\n",
      "\n",
      "\n",
      "  df['age'].fillna(mean_age, inplace=True)\n"
     ]
    }
   ],
   "source": [
    "import pandas as pd\n",
    "# titanic.xlsx 파일에서 데이터를 읽어와서 df라는 데이터프레임에 저장\n",
    "df = pd.read_excel(\"titanic.xlsx\")\n",
    "\n",
    "# \"age\" 열에서 상위 10개의 값을 출력\n",
    "print(df['age'].head(10))\n",
    "print()\n",
    "\n",
    "# \"age\" 열의 평균값을 계산, 결측값(NaN)은 제외하고 평균을 계산\n",
    "mean_age = df['age'].mean(axis=0)\n",
    "\n",
    "# fillna(mean_age)는 \"age\" 열에서 결측값(NaN)을 mean_age(평균값)으로 채운다.\n",
    "df['age'].fillna(mean_age, inplace=True)\n",
    "print(df['age'].head(10))\n",
    "print()"
   ]
  },
  {
   "cell_type": "code",
   "execution_count": 16,
   "metadata": {},
   "outputs": [
    {
     "name": "stdout",
     "output_type": "stream",
     "text": [
      "825     Queenstown\n",
      "826    Southampton\n",
      "827      Cherbourg\n",
      "828     Queenstown\n",
      "829            NaN\n",
      "Name: embark_town, dtype: object\n",
      "\n",
      "Southampton\n",
      "\n",
      "825     Queenstown\n",
      "826    Southampton\n",
      "827      Cherbourg\n",
      "828     Queenstown\n",
      "829    Southampton\n",
      "Name: embark_town, dtype: object\n",
      "\n"
     ]
    },
    {
     "name": "stderr",
     "output_type": "stream",
     "text": [
      "/var/folders/jg/4s9vwdvj78b4mywd_ds9z14r0000gn/T/ipykernel_58549/770258244.py:14: FutureWarning: A value is trying to be set on a copy of a DataFrame or Series through chained assignment using an inplace method.\n",
      "The behavior will change in pandas 3.0. This inplace method will never work because the intermediate object on which we are setting values always behaves as a copy.\n",
      "\n",
      "For example, when doing 'df[col].method(value, inplace=True)', try using 'df.method({col: value}, inplace=True)' or df[col] = df[col].method(value) instead, to perform the operation inplace on the original object.\n",
      "\n",
      "\n",
      "  df['embark_town'].fillna(most_freq, inplace=True)\n"
     ]
    }
   ],
   "source": [
    "# \"titanic.xlsx\"라는 새 컬럼을 불러옴\n",
    "df = pd.read_excel(\"titanic.xlsx\")\n",
    "# \"embark_town\" 열에서 825번에서 829번까지의 값을 출력\n",
    "print(df['embark_town'][825:830])\n",
    "print()\n",
    "\n",
    "# \"embark_town\" 열에서 결측값을 제외하고 값의 빈도를 세는 함수\n",
    "# idxmax()는 가장 빈도수가 높은 값(즉, \"embark_town\" 열에서 가장 자주 등장하는 값)을 반환\n",
    "most_freq = df['embark_town'].value_counts(dropna=True).idxmax()   \n",
    "print(most_freq)\n",
    "print()\n",
    "\n",
    "# \"embark_town\" 열의 결측값을 most_freq (가장 자주 등장하는 값)으로 채운다.\n",
    "df['embark_town'].fillna(most_freq, inplace=True)\n",
    "print(df['embark_town'][825:830])\n",
    "print()"
   ]
  },
  {
   "cell_type": "code",
   "execution_count": 18,
   "metadata": {},
   "outputs": [
    {
     "name": "stdout",
     "output_type": "stream",
     "text": [
      "825     Queenstown\n",
      "826    Southampton\n",
      "827      Cherbourg\n",
      "828     Queenstown\n",
      "829            NaN\n",
      "Name: embark_town, dtype: object\n",
      "\n",
      "825     Queenstown\n",
      "826    Southampton\n",
      "827      Cherbourg\n",
      "828     Queenstown\n",
      "829     Queenstown\n",
      "Name: embark_town, dtype: object\n"
     ]
    },
    {
     "name": "stderr",
     "output_type": "stream",
     "text": [
      "/var/folders/jg/4s9vwdvj78b4mywd_ds9z14r0000gn/T/ipykernel_58549/2003814731.py:7: FutureWarning: A value is trying to be set on a copy of a DataFrame or Series through chained assignment using an inplace method.\n",
      "The behavior will change in pandas 3.0. This inplace method will never work because the intermediate object on which we are setting values always behaves as a copy.\n",
      "\n",
      "For example, when doing 'df[col].method(value, inplace=True)', try using 'df.method({col: value}, inplace=True)' or df[col] = df[col].method(value) instead, to perform the operation inplace on the original object.\n",
      "\n",
      "\n",
      "  df['embark_town'].fillna(method='ffill', inplace=True)\n",
      "/var/folders/jg/4s9vwdvj78b4mywd_ds9z14r0000gn/T/ipykernel_58549/2003814731.py:7: FutureWarning: Series.fillna with 'method' is deprecated and will raise in a future version. Use obj.ffill() or obj.bfill() instead.\n",
      "  df['embark_town'].fillna(method='ffill', inplace=True)\n"
     ]
    }
   ],
   "source": [
    "df = pd.read_excel(\"titanic.xlsx\")\n",
    "print(df['embark_town'][825:830])\n",
    "print()\n",
    "\n",
    "# fillna(method='ffill')는 결측값을 직전의 값으로 채우는 방법\n",
    "# 이 방식을 forward fill(전방 채움)이라고 하며, 결측값을 그 앞에 있는 값으로 대체하는 것\n",
    "df['embark_town'].fillna(method='ffill', inplace=True)\n",
    "print(df['embark_town'][825:830])"
   ]
  },
  {
   "cell_type": "code",
   "execution_count": 20,
   "metadata": {},
   "outputs": [
    {
     "name": "stdout",
     "output_type": "stream",
     "text": [
      "       HeartDisease    BMI Smoking AlcoholDrinking Stroke  PhysicalHealth  \\\n",
      "0                No  16.60     Yes              No     No             3.0   \n",
      "1                No  20.34      No              No    Yes             0.0   \n",
      "2                No  26.58     Yes              No     No            20.0   \n",
      "3                No  24.21      No              No     No             0.0   \n",
      "4                No  23.71      No              No     No            28.0   \n",
      "...             ...    ...     ...             ...    ...             ...   \n",
      "319790          Yes  27.41     Yes              No     No             7.0   \n",
      "319791           No  29.84     Yes              No     No             0.0   \n",
      "319792           No  24.24      No              No     No             0.0   \n",
      "319793           No  32.81      No              No     No             0.0   \n",
      "319794           No  46.56      No              No     No             0.0   \n",
      "\n",
      "        MentalHealth DiffWalking     Sex  AgeCategory      Race Diabetic  \\\n",
      "0               30.0          No  Female        55-59     White      Yes   \n",
      "1                0.0          No  Female  80 or older     White       No   \n",
      "2               30.0          No    Male        65-69     White      Yes   \n",
      "3                0.0          No  Female        75-79     White       No   \n",
      "4                0.0         Yes  Female        40-44     White       No   \n",
      "...              ...         ...     ...          ...       ...      ...   \n",
      "319790           0.0         Yes    Male        60-64  Hispanic      Yes   \n",
      "319791           0.0          No    Male        35-39  Hispanic       No   \n",
      "319792           0.0          No  Female        45-49  Hispanic       No   \n",
      "319793           0.0          No  Female        25-29  Hispanic       No   \n",
      "319794           0.0          No  Female  80 or older  Hispanic       No   \n",
      "\n",
      "       PhysicalActivity  GenHealth  SleepTime Asthma KidneyDisease SkinCancer  \n",
      "0                   Yes  Very good        5.0    Yes            No        Yes  \n",
      "1                   Yes  Very good        7.0     No            No         No  \n",
      "2                   Yes       Fair        8.0    Yes            No         No  \n",
      "3                    No       Good        6.0     No            No        Yes  \n",
      "4                   Yes  Very good        8.0     No            No         No  \n",
      "...                 ...        ...        ...    ...           ...        ...  \n",
      "319790               No       Fair        6.0    Yes            No         No  \n",
      "319791              Yes  Very good        5.0    Yes            No         No  \n",
      "319792              Yes       Good        6.0     No            No         No  \n",
      "319793               No       Good       12.0     No            No         No  \n",
      "319794              Yes       Good        8.0     No            No         No  \n",
      "\n",
      "[319795 rows x 18 columns]\n",
      "\n",
      "<class 'pandas.core.frame.DataFrame'>\n",
      "RangeIndex: 319795 entries, 0 to 319794\n",
      "Data columns (total 18 columns):\n",
      " #   Column            Non-Null Count   Dtype  \n",
      "---  ------            --------------   -----  \n",
      " 0   HeartDisease      319795 non-null  object \n",
      " 1   BMI               319795 non-null  float64\n",
      " 2   Smoking           319795 non-null  object \n",
      " 3   AlcoholDrinking   319795 non-null  object \n",
      " 4   Stroke            319795 non-null  object \n",
      " 5   PhysicalHealth    319795 non-null  float64\n",
      " 6   MentalHealth      319795 non-null  float64\n",
      " 7   DiffWalking       319795 non-null  object \n",
      " 8   Sex               319795 non-null  object \n",
      " 9   AgeCategory       319795 non-null  object \n",
      " 10  Race              319795 non-null  object \n",
      " 11  Diabetic          319795 non-null  object \n",
      " 12  PhysicalActivity  319795 non-null  object \n",
      " 13  GenHealth         319795 non-null  object \n",
      " 14  SleepTime         319795 non-null  float64\n",
      " 15  Asthma            319795 non-null  object \n",
      " 16  KidneyDisease     319795 non-null  object \n",
      " 17  SkinCancer        319795 non-null  object \n",
      "dtypes: float64(4), object(14)\n",
      "memory usage: 43.9+ MB\n"
     ]
    }
   ],
   "source": [
    "import matplotlib.pyplot as plt\n",
    "import pandas as pd\n",
    "import seaborn as sns\n",
    "\n",
    "#데이터 불러오기\n",
    "df = pd.read_csv(\"heart_2020_cleaned.csv\")\n",
    "print(df)\n",
    "print()\n",
    "\n",
    "df.info()"
   ]
  },
  {
   "cell_type": "code",
   "execution_count": 21,
   "metadata": {},
   "outputs": [
    {
     "data": {
      "image/png": "[encoded data removed]",
      "text/plain": [
       "<Figure size 800x600 with 1 Axes>"
      ]
     },
     "metadata": {},
     "output_type": "display_data"
    }
   ],
   "source": [
    "#BMI 칼럼의 박스플롯 시각화를 통한 이상치 확인\n",
    "\n",
    "# 그래프의 크기를 설정\n",
    "plt.figure(figsize=(8, 6))\n",
    "# seaborn 라이브러리를 사용해 박스플롯을 생성하는 함수\n",
    "# 박스플롯에서 BMI 칼럼의 값을 y축에 표시\n",
    "# data=df: df 데이터프레임에서 데이터를 가져옴.\n",
    "sns.boxplot(y = 'BMI', data = df)\n",
    "\n",
    "# 그래프 그리기\n",
    "plt.show()"
   ]
  },
  {
   "cell_type": "code",
   "execution_count": 23,
   "metadata": {},
   "outputs": [
    {
     "data": {
      "image/png": "[encoded data removed]",
      "text/plain": [
       "<Figure size 800x600 with 1 Axes>"
      ]
     },
     "metadata": {},
     "output_type": "display_data"
    }
   ],
   "source": [
    "#BMI 칼럼에서 이상치(outliers)를 제거하는 과정\n",
    "\n",
    "# 1사분위수(Q1)를 계산, 이는 BMI 값 중에서 하위 25%에 해당하는 값을 의미\n",
    "Q1 = df['BMI'].quantile(0.25)\n",
    "# 3사분위수(Q3)를 계산, 이는 BMI 값 중 상위 25%에 해당하는 값을 의미\n",
    "Q3 = df['BMI'].quantile(0.75)\n",
    "\n",
    "# IQR(Interquartile Range, 사분위 범위)은 Q3에서 Q1을 뺀 값으로, 중간 50% 데이터의 범위를 나타낸다.\n",
    "# 이 값은 이상치를 탐지할 때 사용\n",
    "IQR = Q3 - Q1\n",
    "\n",
    "#  IQR의 1.5배를 의미하며, 일반적으로 이상치를 판단하는 기준으로 사용\n",
    "rev_range = 1.5\n",
    "\n",
    "# (df['BMI'] >= Q1 - rev_range * IQR)는 BMI 값이 Q1에서 1.5 * IQR 이하로 벗어나지 않도록 필터링\n",
    "# (df['BMI'] <= Q3 + rev_range * IQR)는 BMI 값이 Q3에서 1.5 * IQR 이상 벗어나지 않도록 필터링\n",
    "# 두 조건은 AND 연산자(&)로 연결되어 이 범위 내에 있는 값들만 정상 범위로 간주\n",
    "filter = (df['BMI'] >= Q1 - rev_range*IQR) & (df['BMI'] <= Q3 + rev_range*IQR)\n",
    "\n",
    "# 필터 조건을 만족하는 행들만 선택하여 새로운 데이터프레임 df_rmv에 저장\n",
    "df_rmv = df.loc[filter]\n",
    "\n",
    "#BMI 칼럼의 박스플롯 시각화를 통해 이상치가 잘 제거 되었는지 확인\n",
    "plt.figure(figsize=(8, 6))\n",
    "sns.boxplot(y = 'BMI', data = df_rmv)\n",
    "plt.show()"
   ]
  },
  {
   "cell_type": "code",
   "execution_count": 24,
   "metadata": {},
   "outputs": [
    {
     "name": "stdout",
     "output_type": "stream",
     "text": [
      "    horsepower hp_bin\n",
      "0        130.0   보통출력\n",
      "1        165.0   보통출력\n",
      "2        150.0   보통출력\n",
      "3        150.0   보통출력\n",
      "4        140.0   보통출력\n",
      "5        198.0   보통출력\n",
      "6        220.0    고출력\n",
      "7        215.0    고출력\n",
      "8        225.0    고출력\n",
      "9        190.0   보통출력\n",
      "10       170.0   보통출력\n",
      "11       160.0   보통출력\n",
      "12       150.0   보통출력\n",
      "13       225.0    고출력\n",
      "14        95.0    저출력\n"
     ]
    }
   ],
   "source": [
    "# 자동차 연비 데이터(mpg.csv)에서 'horsepower' 값을 기반으로 출력을 범주형(bin)으로 나누는 작업을 수행\n",
    "\n",
    "import pandas as pd\n",
    "import numpy as np\n",
    "\n",
    "df = pd.read_csv(\"mpg.csv\")\n",
    "\n",
    "#  'horsepower' 열에서 결측값(NaN)을 가진 행을 삭제\n",
    "df.dropna(subset=['horsepower'], axis=0, inplace=True)\n",
    "\n",
    "# 자동차의 마력(horsepower)을 범주화하기 위해 사용할 **레이블(labels)**을 정의\n",
    "bin_names = ['저출력', '보통출력', '고출력']\n",
    "\n",
    "# 'horsepower' 값을 pd.cut() 함수를 사용해 범주형(bin) 데이터로 나눈다.\n",
    "# 0에서 100까지는 저출력, 101에서 200까지는 보통출력, 201에서 1000까지는 고출력으로 분류\n",
    "# labels=bin_names: 위에서 정의한 레이블을 각 구간에 할당\n",
    "# include_lowest=True: 첫 번째 구간(0-100)에 속하는 최소값을 포함\n",
    "df['hp_bin'] = pd.cut(x=df['horsepower'], bins=[0, 100, 200, 1000],\n",
    "                            labels=bin_names, include_lowest=True)\n",
    "\n",
    "# 데이터프레임에서 **'horsepower'**와 새로 만든 'hp_bin' 열만 선택하여 출력(15줄만)\n",
    "print(df[['horsepower', 'hp_bin']].head(15))"
   ]
  },
  {
   "cell_type": "code",
   "execution_count": 30,
   "metadata": {},
   "outputs": [
    {
     "name": "stdout",
     "output_type": "stream",
     "text": [
      "      저출력   보통출력    고출력\n",
      "0   False   True  False\n",
      "1   False   True  False\n",
      "2   False   True  False\n",
      "3   False   True  False\n",
      "4   False   True  False\n",
      "5   False   True  False\n",
      "6   False  False   True\n",
      "7   False  False   True\n",
      "8   False  False   True\n",
      "9   False   True  False\n",
      "10  False   True  False\n",
      "11  False   True  False\n",
      "12  False   True  False\n",
      "13  False  False   True\n",
      "14   True  False  False\n",
      "\n"
     ]
    }
   ],
   "source": [
    "# 'horsepower' 데이터를 범주형(bin)으로 나누고, 이 범주 데이터를 더미 변수(dummy variables)로 변환하는 작업\n",
    "import pandas as pd\n",
    "\n",
    "df = pd.read_csv('mpg.csv')\n",
    "# 결측치 제거\n",
    "df.dropna(subset=['horsepower'], axis=0, inplace=True)\n",
    "\n",
    "# 범주 레이블(labels) 정의\n",
    "bin_names = ['저출력', '보통출력', '고출력']\n",
    "\n",
    "#  'horsepower' 열의 값을 범주형 데이터로 나눔.\n",
    "df['hp_bin'] = pd.cut(x=df['horsepower'], bins=[0, 100, 200, 1000],\n",
    "                            labels=bin_names, include_lowest=True)\n",
    "\n",
    "# 범주형 데이터를 더미 변수(dummy variables)로 변환\n",
    "# 해당 범주에 해당하는 경우는 1, 그렇지 않은 경우는 0으로 표시\n",
    "horsepower_dummies = pd.get_dummies(df['hp_bin'])\n",
    "print(horsepower_dummies.head(15))\n",
    "print()"
   ]
  },
  {
   "cell_type": "code",
   "execution_count": 31,
   "metadata": {},
   "outputs": [
    {
     "name": "stdout",
     "output_type": "stream",
     "text": [
      "      mpg  cylinders  displacement  horsepower  weight  acceleration  \\\n",
      "0    18.0          8         307.0       130.0    3504          12.0   \n",
      "1    15.0          8         350.0       165.0    3693          11.5   \n",
      "2    18.0          8         318.0       150.0    3436          11.0   \n",
      "3    16.0          8         304.0       150.0    3433          12.0   \n",
      "4    17.0          8         302.0       140.0    3449          10.5   \n",
      "..    ...        ...           ...         ...     ...           ...   \n",
      "393  27.0          4         140.0        86.0    2790          15.6   \n",
      "394  44.0          4          97.0        52.0    2130          24.6   \n",
      "395  32.0          4         135.0        84.0    2295          11.6   \n",
      "396  28.0          4         120.0        79.0    2625          18.6   \n",
      "397  31.0          4         119.0        82.0    2720          19.4   \n",
      "\n",
      "     model_year  origin                       name  hp_bin_저출력  hp_bin_보통출력  \\\n",
      "0            70     usa  chevrolet chevelle malibu       False         True   \n",
      "1            70     usa          buick skylark 320       False         True   \n",
      "2            70     usa         plymouth satellite       False         True   \n",
      "3            70     usa              amc rebel sst       False         True   \n",
      "4            70     usa                ford torino       False         True   \n",
      "..          ...     ...                        ...         ...          ...   \n",
      "393          82     usa            ford mustang gl        True        False   \n",
      "394          82  europe                  vw pickup        True        False   \n",
      "395          82     usa              dodge rampage        True        False   \n",
      "396          82     usa                ford ranger        True        False   \n",
      "397          82     usa                 chevy s-10        True        False   \n",
      "\n",
      "     hp_bin_고출력  \n",
      "0         False  \n",
      "1         False  \n",
      "2         False  \n",
      "3         False  \n",
      "4         False  \n",
      "..          ...  \n",
      "393       False  \n",
      "394       False  \n",
      "395       False  \n",
      "396       False  \n",
      "397       False  \n",
      "\n",
      "[392 rows x 12 columns]\n"
     ]
    }
   ],
   "source": [
    "# 기존 데이터프레임 df에서 'hp_bin' 열을 더미 변수로 변환하고, 결과를 새로운 데이터프레임 df1에 저장\n",
    "df1 = pd.get_dummies(df, columns=['hp_bin'])\n",
    "print(df1)"
   ]
  },
  {
   "cell_type": "code",
   "execution_count": 38,
   "metadata": {},
   "outputs": [
    {
     "name": "stdout",
     "output_type": "stream",
     "text": [
      "   Alcohol  Malic_Acid   Ash  Ash_Alcanity  Magnesium  Total_Phenols  \\\n",
      "0    14.23        1.71  2.43          15.6        127           2.80   \n",
      "1    13.20        1.78  2.14          11.2        100           2.65   \n",
      "2    13.16        2.36  2.67          18.6        101           2.80   \n",
      "3    14.37        1.95  2.50          16.8        113           3.85   \n",
      "4    13.24        2.59  2.87          21.0        118           2.80   \n",
      "\n",
      "   Flavanoids  Nonflavanoid_Phenols  Proanthocyanins  Color_Intensity   Hue  \\\n",
      "0        3.06                  0.28             2.29             5.64  1.04   \n",
      "1        2.76                  0.26             1.28             4.38  1.05   \n",
      "2        3.24                  0.30             2.81             5.68  1.03   \n",
      "3        3.49                  0.24             2.18             7.80  0.86   \n",
      "4        2.69                  0.39             1.82             4.32  1.04   \n",
      "\n",
      "   OD280  Proline  \n",
      "0   3.92     1065  \n",
      "1   3.40     1050  \n",
      "2   3.17     1185  \n",
      "3   3.45     1480  \n",
      "4   2.93      735  \n"
     ]
    }
   ],
   "source": [
    "# 데이터의 표준화와 정규화\n",
    "\n",
    "import pandas as pd\n",
    "from sklearn.preprocessing import StandardScaler\n",
    "from sklearn.preprocessing import MinMaxScaler\n",
    "\n",
    "df = pd.read_csv(\"wine-clustering.csv\")\n",
    "print(df.head())"
   ]
  },
  {
   "cell_type": "code",
   "execution_count": 39,
   "metadata": {},
   "outputs": [
    {
     "name": "stdout",
     "output_type": "stream",
     "text": [
      "    Alcohol  Malic_Acid       Ash  Ash_Alcanity  Magnesium  Total_Phenols  \\\n",
      "0  1.518613   -0.562250  0.232053     -1.169593   1.913905       0.808997   \n",
      "1  0.246290   -0.499413 -0.827996     -2.490847   0.018145       0.568648   \n",
      "2  0.196879    0.021231  1.109334     -0.268738   0.088358       0.808997   \n",
      "3  1.691550   -0.346811  0.487926     -0.809251   0.930918       2.491446   \n",
      "4  0.295700    0.227694  1.840403      0.451946   1.281985       0.808997   \n",
      "\n",
      "   Flavanoids  Nonflavanoid_Phenols  Proanthocyanins  Color_Intensity  \\\n",
      "0    1.034819             -0.659563         1.224884         0.251717   \n",
      "1    0.733629             -0.820719        -0.544721        -0.293321   \n",
      "2    1.215533             -0.498407         2.135968         0.269020   \n",
      "3    1.466525             -0.981875         1.032155         1.186068   \n",
      "4    0.663351              0.226796         0.401404        -0.319276   \n",
      "\n",
      "        Hue     OD280   Proline  \n",
      "0  0.362177  1.847920  1.013009  \n",
      "1  0.406051  1.113449  0.965242  \n",
      "2  0.318304  0.788587  1.395148  \n",
      "3 -0.427544  1.184071  2.334574  \n",
      "4  0.362177  0.449601 -0.037874  \n"
     ]
    }
   ],
   "source": [
    "# 표준화\n",
    "# 표준화는 데이터의 평균을 0, 분산을 1로 변환하는 과정\n",
    "\n",
    "# 객체 생성\n",
    "StandardScaler = StandardScaler()\n",
    "\n",
    "# 데이터 df를 표준화.\n",
    "# fit()은 데이터를 기반으로 평균과 표준편차를 계산하고, transform()은 이 계산된 값으로 데이터를 변환, 결과는 표준화된 값들\n",
    "df_stand = StandardScaler.fit_transform(df)\n",
    "\n",
    "# 표준화된 값을 다시 DataFrame으로 변환하여 df_stand에 저장.\n",
    "# 원래 데이터의 열 이름을 유지하기 위해 columns=df.columns를 사용\n",
    "df_stand = pd.DataFrame(data = df_stand, columns=df.columns)\n",
    "\n",
    "\n",
    "print(df_stand.head())"
   ]
  },
  {
   "cell_type": "code",
   "execution_count": 40,
   "metadata": {},
   "outputs": [
    {
     "name": "stdout",
     "output_type": "stream",
     "text": [
      "    Alcohol  Malic_Acid       Ash  Ash_Alcanity  Magnesium  Total_Phenols  \\\n",
      "0  0.842105    0.191700  0.572193      0.257732   0.619565       0.627586   \n",
      "1  0.571053    0.205534  0.417112      0.030928   0.326087       0.575862   \n",
      "2  0.560526    0.320158  0.700535      0.412371   0.336957       0.627586   \n",
      "3  0.878947    0.239130  0.609626      0.319588   0.467391       0.989655   \n",
      "4  0.581579    0.365613  0.807487      0.536082   0.521739       0.627586   \n",
      "\n",
      "   Flavanoids  Nonflavanoid_Phenols  Proanthocyanins  Color_Intensity  \\\n",
      "0    0.573840              0.283019         0.593060         0.372014   \n",
      "1    0.510549              0.245283         0.274448         0.264505   \n",
      "2    0.611814              0.320755         0.757098         0.375427   \n",
      "3    0.664557              0.207547         0.558360         0.556314   \n",
      "4    0.495781              0.490566         0.444795         0.259386   \n",
      "\n",
      "        Hue     OD280   Proline  \n",
      "0  0.455285  0.970696  0.561341  \n",
      "1  0.463415  0.780220  0.550642  \n",
      "2  0.447154  0.695971  0.646933  \n",
      "3  0.308943  0.798535  0.857347  \n",
      "4  0.455285  0.608059  0.325963  \n"
     ]
    }
   ],
   "source": [
    "#정규화\n",
    "#  정규화는 데이터의 값을 특정 범위(기본적으로 0과 1)로 변환하는 과정. \n",
    "# 이는 데이터의 최소값을 0, 최대값을 1로 조정하여 데이터의 스케일을 맞추는 데 유용하다.\n",
    "\n",
    "# 객체 생성\n",
    "MinMaxScaler = MinMaxScaler()\n",
    "\n",
    "# 데이터 df를 정규화\n",
    "# fit()은 데이터의 최소값과 최대값을 계산하고, transform()은 이를 기준으로 데이터를 0과 1 사이의 값으로 변환\n",
    "df_minmax = MinMaxScaler.fit_transform(df)\n",
    "\n",
    "# 정규화된 값을 다시 DataFrame으로 변환하여 df_minmax에 저장\n",
    "df_minmax = pd.DataFrame(data = df_minmax, columns=df.columns)\n",
    "\n",
    "# 출력\n",
    "print(df_minmax.head())"
   ]
  },
  {
   "cell_type": "code",
   "execution_count": 43,
   "metadata": {},
   "outputs": [
    {
     "name": "stdout",
     "output_type": "stream",
     "text": [
      "     survived  pclass     sex   age  sibsp  parch     fare embarked   class  \\\n",
      "0           0       3    male  22.0      1      0   7.2500        S   Third   \n",
      "1           1       1  female  38.0      1      0  71.2833        C   First   \n",
      "2           1       3  female  26.0      0      0   7.9250        S   Third   \n",
      "3           1       1  female  35.0      1      0  53.1000        S   First   \n",
      "4           0       3    male  35.0      0      0   8.0500        S   Third   \n",
      "..        ...     ...     ...   ...    ...    ...      ...      ...     ...   \n",
      "886         0       2    male  27.0      0      0  13.0000        S  Second   \n",
      "887         1       1  female  19.0      0      0  30.0000        S   First   \n",
      "888         0       3  female   NaN      1      2  23.4500        S   Third   \n",
      "889         1       1    male  26.0      0      0  30.0000        C   First   \n",
      "890         0       3    male  32.0      0      0   7.7500        Q   Third   \n",
      "\n",
      "       who  adult_male deck  embark_town alive  alone  \n",
      "0      man        True  NaN  Southampton    no  False  \n",
      "1    woman       False    C    Cherbourg   yes  False  \n",
      "2    woman       False  NaN  Southampton   yes   True  \n",
      "3    woman       False    C  Southampton   yes  False  \n",
      "4      man        True  NaN  Southampton    no   True  \n",
      "..     ...         ...  ...          ...   ...    ...  \n",
      "886    man        True  NaN  Southampton    no   True  \n",
      "887  woman       False    B  Southampton   yes   True  \n",
      "888  woman       False  NaN  Southampton    no  False  \n",
      "889    man        True    C    Cherbourg   yes   True  \n",
      "890    man        True  NaN   Queenstown    no   True  \n",
      "\n",
      "[891 rows x 15 columns]\n",
      "\n"
     ]
    }
   ],
   "source": [
    "# 머신러닝에 필요한 훈련용(train)과 테스트용(test) 데이터를 분리하는 과정\n",
    "\n",
    "import pandas as pd\n",
    "\n",
    "df = pd.read_excel(\"titanic.xlsx\")\n",
    "print(df)\n",
    "print()\n",
    "\n",
    "# 데이터프레임 df에서 'survived' 열을 제외한 나머지 데이터를 X 변수에 저장, 이는 모델이 학습할 입력 데이터\n",
    "# 이는 모델이 학습할 입력 데이터\n",
    "X = df.drop('survived', axis=1)\n",
    "# y는 예측하려는 목표 변수(target variable)이며, 타이타닉 승객이 생존했는지 여부(0 또는 1)를 나타냄\n",
    "y = df['survived']\n",
    "\n",
    "from sklearn.model_selection import train_test_split\n",
    "\n",
    "# 입력 데이터 X와 목표 변수 y를 훈련용과 테스트용으로 분리\n",
    "# test_size=0.3: 전체 데이터 중 30%를 테스트용 데이터로 할당하고, 70%를 훈련용 데이터로 사용\n",
    "# random_state=0: 무작위로 데이터를 섞을 때의 시드(seed) 값을 설정하여 데이터 분할이 항상 동일한 방식으로 이루어지도록 고정\n",
    "# stratify=y: 데이터를 층화 추출(stratified sampling) 방식으로 분할\n",
    "# shuffle=True: 데이터를 분할하기 전에 무작위로 섞어(shuffle)준다.\n",
    "X_train, X_test, y_train, y_test = train_test_split(X, y, test_size=0.3, random_state=0,\n",
    "                                                    stratify=y, shuffle=True)"
   ]
  },
  {
   "cell_type": "code",
   "execution_count": 45,
   "metadata": {},
   "outputs": [
    {
     "data": {
      "text/plain": [
       "[(array([  0,   1,   2,   3,   4,   5,   6,   8,   9,  10,  11,  12,  13,\n",
       "          14,  15,  16,  17,  18,  19,  20,  21,  22,  23,  24,  25,  26,\n",
       "          27,  28,  29,  30,  31,  32,  34,  35,  36,  37,  38,  39,  41,\n",
       "          42,  43,  44,  45,  46,  47,  48,  49,  50,  52,  53,  55,  56,\n",
       "          57,  58,  59,  60,  61,  64,  65,  66,  67,  68,  69,  70,  72,\n",
       "          74,  75,  77,  78,  79,  80,  81,  82,  83,  84,  85,  87,  88,\n",
       "          89,  90,  91,  92,  93,  94,  95,  96,  97,  98,  99, 101, 102,\n",
       "         103, 104, 105, 106, 108, 109, 110, 111, 112, 113, 115, 116, 117,\n",
       "         118, 119, 120, 121, 122, 123, 124, 125, 126, 127, 128, 129, 130,\n",
       "         131, 132, 133, 135, 136, 137, 138, 139, 140, 141, 142, 143, 144,\n",
       "         145, 146, 147, 148, 149]),\n",
       "  array([  7,  33,  40,  51,  54,  62,  63,  71,  73,  76,  86, 100, 107,\n",
       "         114, 134])),\n",
       " (array([  0,   1,   2,   3,   4,   5,   6,   7,   9,  10,  11,  12,  13,\n",
       "          14,  15,  17,  18,  19,  20,  21,  23,  25,  27,  28,  29,  30,\n",
       "          31,  32,  33,  34,  35,  36,  38,  39,  40,  41,  42,  43,  46,\n",
       "          47,  48,  49,  50,  51,  52,  53,  54,  55,  56,  57,  58,  59,\n",
       "          60,  61,  62,  63,  64,  65,  67,  68,  69,  70,  71,  72,  73,\n",
       "          74,  75,  76,  77,  79,  80,  81,  82,  83,  84,  85,  86,  87,\n",
       "          88,  89,  91,  92,  94,  95,  96,  98,  99, 100, 101, 102, 103,\n",
       "         104, 105, 106, 107, 108, 109, 110, 111, 112, 113, 114, 115, 116,\n",
       "         117, 118, 119, 120, 122, 123, 124, 125, 127, 128, 129, 130, 131,\n",
       "         132, 133, 134, 135, 136, 137, 138, 139, 140, 141, 142, 143, 144,\n",
       "         145, 146, 147, 148, 149]),\n",
       "  array([  8,  16,  22,  24,  26,  37,  44,  45,  66,  78,  90,  93,  97,\n",
       "         121, 126])),\n",
       " (array([  0,   1,   3,   4,   5,   6,   7,   8,   9,  11,  12,  13,  14,\n",
       "          15,  16,  17,  19,  20,  21,  22,  23,  24,  25,  26,  28,  29,\n",
       "          30,  31,  32,  33,  34,  35,  36,  37,  38,  39,  40,  41,  42,\n",
       "          44,  45,  46,  47,  48,  49,  50,  51,  52,  53,  54,  55,  56,\n",
       "          57,  58,  60,  62,  63,  64,  65,  66,  67,  68,  69,  70,  71,\n",
       "          72,  73,  74,  75,  76,  77,  78,  79,  80,  81,  82,  85,  86,\n",
       "          87,  88,  89,  90,  91,  93,  94,  95,  96,  97,  98,  99, 100,\n",
       "         101, 102, 103, 104, 105, 106, 107, 108, 109, 110, 111, 113, 114,\n",
       "         115, 116, 117, 118, 119, 120, 121, 122, 123, 124, 125, 126, 128,\n",
       "         129, 130, 131, 133, 134, 135, 136, 138, 139, 140, 142, 143, 144,\n",
       "         145, 146, 147, 148, 149]),\n",
       "  array([  2,  10,  18,  27,  43,  59,  61,  83,  84,  92, 112, 127, 132,\n",
       "         137, 141])),\n",
       " (array([  0,   1,   2,   3,   4,   5,   6,   7,   8,   9,  10,  11,  12,\n",
       "          13,  14,  15,  16,  17,  18,  19,  20,  21,  22,  23,  24,  25,\n",
       "          26,  27,  28,  29,  30,  31,  32,  33,  34,  35,  36,  37,  38,\n",
       "          39,  40,  41,  42,  43,  44,  45,  46,  47,  48,  49,  51,  52,\n",
       "          53,  54,  55,  57,  58,  59,  61,  62,  63,  64,  65,  66,  67,\n",
       "          68,  70,  71,  72,  73,  74,  75,  76,  77,  78,  79,  81,  82,\n",
       "          83,  84,  85,  86,  87,  88,  89,  90,  91,  92,  93,  94,  95,\n",
       "          96,  97,  98,  99, 100, 101, 102, 103, 104, 105, 107, 109, 110,\n",
       "         111, 112, 113, 114, 115, 117, 118, 120, 121, 122, 124, 125, 126,\n",
       "         127, 128, 129, 130, 131, 132, 134, 136, 137, 138, 139, 140, 141,\n",
       "         142, 143, 145, 148, 149]),\n",
       "  array([ 50,  56,  60,  69,  80, 106, 108, 116, 119, 123, 133, 135, 144,\n",
       "         146, 147])),\n",
       " (array([  0,   1,   2,   3,   4,   5,   6,   7,   8,   9,  10,  11,  12,\n",
       "          14,  16,  17,  18,  19,  21,  22,  23,  24,  25,  26,  27,  28,\n",
       "          29,  31,  32,  33,  34,  35,  36,  37,  38,  39,  40,  41,  42,\n",
       "          43,  44,  45,  46,  47,  49,  50,  51,  53,  54,  55,  56,  57,\n",
       "          58,  59,  60,  61,  62,  63,  65,  66,  67,  68,  69,  70,  71,\n",
       "          72,  73,  74,  75,  76,  77,  78,  79,  80,  81,  82,  83,  84,\n",
       "          86,  87,  88,  90,  92,  93,  96,  97,  98,  99, 100, 102, 103,\n",
       "         104, 105, 106, 107, 108, 109, 110, 112, 113, 114, 115, 116, 117,\n",
       "         118, 119, 120, 121, 122, 123, 124, 126, 127, 128, 129, 130, 131,\n",
       "         132, 133, 134, 135, 136, 137, 138, 139, 140, 141, 142, 143, 144,\n",
       "         145, 146, 147, 148, 149]),\n",
       "  array([ 13,  15,  20,  30,  48,  52,  64,  85,  89,  91,  94,  95, 101,\n",
       "         111, 125])),\n",
       " (array([  0,   1,   2,   4,   5,   7,   8,   9,  10,  13,  14,  15,  16,\n",
       "          17,  18,  19,  20,  21,  22,  23,  24,  25,  26,  27,  28,  29,\n",
       "          30,  31,  32,  33,  34,  35,  36,  37,  38,  39,  40,  41,  42,\n",
       "          43,  44,  45,  47,  48,  49,  50,  51,  52,  53,  54,  55,  56,\n",
       "          57,  58,  59,  60,  61,  62,  63,  64,  65,  66,  67,  69,  70,\n",
       "          71,  72,  73,  74,  75,  76,  77,  78,  79,  80,  81,  82,  83,\n",
       "          84,  85,  86,  87,  88,  89,  90,  91,  92,  93,  94,  95,  97,\n",
       "          99, 100, 101, 103, 105, 106, 107, 108, 111, 112, 113, 114, 115,\n",
       "         116, 117, 118, 119, 121, 122, 123, 124, 125, 126, 127, 129, 130,\n",
       "         131, 132, 133, 134, 135, 136, 137, 138, 139, 140, 141, 142, 143,\n",
       "         144, 145, 146, 147, 148]),\n",
       "  array([  3,   6,  11,  12,  46,  68,  96,  98, 102, 104, 109, 110, 120,\n",
       "         128, 149])),\n",
       " (array([  0,   2,   3,   6,   7,   8,   9,  10,  11,  12,  13,  14,  15,\n",
       "          16,  18,  19,  20,  21,  22,  23,  24,  25,  26,  27,  28,  29,\n",
       "          30,  31,  32,  33,  34,  35,  36,  37,  39,  40,  43,  44,  45,\n",
       "          46,  47,  48,  49,  50,  51,  52,  54,  55,  56,  57,  58,  59,\n",
       "          60,  61,  62,  63,  64,  65,  66,  67,  68,  69,  70,  71,  72,\n",
       "          73,  74,  75,  76,  77,  78,  79,  80,  81,  82,  83,  84,  85,\n",
       "          86,  87,  88,  89,  90,  91,  92,  93,  94,  95,  96,  97,  98,\n",
       "          99, 100, 101, 102, 103, 104, 106, 107, 108, 109, 110, 111, 112,\n",
       "         114, 115, 116, 117, 118, 119, 120, 121, 122, 123, 125, 126, 127,\n",
       "         128, 130, 131, 132, 133, 134, 135, 136, 137, 138, 140, 141, 142,\n",
       "         144, 145, 146, 147, 149]),\n",
       "  array([  1,   4,   5,  17,  38,  41,  42,  53, 105, 113, 124, 129, 139,\n",
       "         143, 148])),\n",
       " (array([  1,   2,   3,   4,   5,   6,   7,   8,   9,  10,  11,  12,  13,\n",
       "          14,  15,  16,  17,  18,  19,  20,  21,  22,  24,  25,  26,  27,\n",
       "          29,  30,  33,  36,  37,  38,  39,  40,  41,  42,  43,  44,  45,\n",
       "          46,  47,  48,  49,  50,  51,  52,  53,  54,  56,  58,  59,  60,\n",
       "          61,  62,  63,  64,  66,  67,  68,  69,  70,  71,  72,  73,  76,\n",
       "          77,  78,  79,  80,  81,  82,  83,  84,  85,  86,  87,  88,  89,\n",
       "          90,  91,  92,  93,  94,  95,  96,  97,  98,  99, 100, 101, 102,\n",
       "         103, 104, 105, 106, 107, 108, 109, 110, 111, 112, 113, 114, 115,\n",
       "         116, 117, 119, 120, 121, 122, 123, 124, 125, 126, 127, 128, 129,\n",
       "         130, 132, 133, 134, 135, 136, 137, 139, 140, 141, 142, 143, 144,\n",
       "         145, 146, 147, 148, 149]),\n",
       "  array([  0,  23,  28,  31,  32,  34,  35,  55,  57,  65,  74,  75, 118,\n",
       "         131, 138])),\n",
       " (array([  0,   1,   2,   3,   4,   5,   6,   7,   8,   9,  10,  11,  12,\n",
       "          13,  15,  16,  17,  18,  20,  21,  22,  23,  24,  26,  27,  28,\n",
       "          30,  31,  32,  33,  34,  35,  36,  37,  38,  39,  40,  41,  42,\n",
       "          43,  44,  45,  46,  47,  48,  50,  51,  52,  53,  54,  55,  56,\n",
       "          57,  58,  59,  60,  61,  62,  63,  64,  65,  66,  67,  68,  69,\n",
       "          70,  71,  73,  74,  75,  76,  78,  80,  81,  83,  84,  85,  86,\n",
       "          87,  88,  89,  90,  91,  92,  93,  94,  95,  96,  97,  98, 100,\n",
       "         101, 102, 103, 104, 105, 106, 107, 108, 109, 110, 111, 112, 113,\n",
       "         114, 116, 117, 118, 119, 120, 121, 123, 124, 125, 126, 127, 128,\n",
       "         129, 131, 132, 133, 134, 135, 137, 138, 139, 140, 141, 142, 143,\n",
       "         144, 146, 147, 148, 149]),\n",
       "  array([ 14,  19,  25,  29,  49,  72,  77,  79,  82,  99, 115, 122, 130,\n",
       "         136, 145])),\n",
       " (array([  0,   1,   2,   3,   4,   5,   6,   7,   8,  10,  11,  12,  13,\n",
       "          14,  15,  16,  17,  18,  19,  20,  22,  23,  24,  25,  26,  27,\n",
       "          28,  29,  30,  31,  32,  33,  34,  35,  37,  38,  40,  41,  42,\n",
       "          43,  44,  45,  46,  48,  49,  50,  51,  52,  53,  54,  55,  56,\n",
       "          57,  59,  60,  61,  62,  63,  64,  65,  66,  68,  69,  71,  72,\n",
       "          73,  74,  75,  76,  77,  78,  79,  80,  82,  83,  84,  85,  86,\n",
       "          89,  90,  91,  92,  93,  94,  95,  96,  97,  98,  99, 100, 101,\n",
       "         102, 104, 105, 106, 107, 108, 109, 110, 111, 112, 113, 114, 115,\n",
       "         116, 118, 119, 120, 121, 122, 123, 124, 125, 126, 127, 128, 129,\n",
       "         130, 131, 132, 133, 134, 135, 136, 137, 138, 139, 141, 143, 144,\n",
       "         145, 146, 147, 148, 149]),\n",
       "  array([  9,  21,  36,  39,  47,  58,  67,  70,  81,  87,  88, 103, 117,\n",
       "         140, 142]))]"
      ]
     },
     "execution_count": 45,
     "metadata": {},
     "output_type": "execute_result"
    }
   ],
   "source": [
    "# KFold 교차 검증을 설정하여 데이터를 10개의 폴드(fold)로 분할하려는 작업을 수행\n",
    "\n",
    "import pandas as pd\n",
    "df = pd.read_excel(\"iris.xlsx\")\n",
    "\n",
    "from sklearn.model_selection import KFold\n",
    "\n",
    "# n_splits=10: 데이터를 10개의 폴드(folds)로 나눔. 즉, 각 폴드는 10%의 데이터를 포함하며, 전체 데이터셋에서 10번 반복해서 훈련과 테스트를 수행\n",
    "# shuffle=True: 데이터를 분할하기 전에 무작위로 섞는다.\n",
    "# shuffle=True와 함께 사용되어 데이터가 항상 동일한 방식으로 섞이도록 난수 seed 고정\n",
    "kfold = KFold(n_splits=10, shuffle=True, random_state=0)\n",
    "\n",
    "# 데이터를 10개의 폴드로 나누고, 각 폴드의 훈련 인덱스와 테스트 인덱스를 생성\n",
    "# 반환값은 각 폴드에 대한 (train_index, test_index)의 쌍으로 이루어진 리스트\n",
    "list(kfold.split(df))"
   ]
  },
  {
   "cell_type": "code",
   "execution_count": 48,
   "metadata": {},
   "outputs": [
    {
     "name": "stdout",
     "output_type": "stream",
     "text": [
      "    y_test  y_pred\n",
      "0        0       0\n",
      "1        1       1\n",
      "2        1       1\n",
      "3        1       1\n",
      "4        0       0\n",
      "5        0       1\n",
      "6        0       1\n",
      "7        0       0\n",
      "8        0       1\n",
      "9        0       0\n",
      "10       0       0\n",
      "11       1       1\n",
      "12       1       1\n",
      "13       1       1\n",
      "14       1       0\n",
      "15       0       0\n",
      "16       0       1\n",
      "17       0       0\n",
      "18       0       0\n",
      "19       0       0\n",
      "20       0       0\n",
      "21       1       1\n",
      "22       1       1\n",
      "23       1       1\n",
      "24       0       1\n",
      "25       1       1\n",
      "26       0       0\n",
      "27       1       1\n",
      "28       1       1\n",
      "29       1       1\n",
      "\n"
     ]
    }
   ],
   "source": [
    "# 혼동 행렬(confusion matrix)과 분류 보고서(classification report)를 출력하는 작업\n",
    "\n",
    "import pandas as pd\n",
    "from sklearn.metrics import confusion_matrix, classification_report\n",
    "\n",
    "df = pd.read_excel(\"test.xlsx\")\n",
    "print(df)\n",
    "print()"
   ]
  },
  {
   "cell_type": "code",
   "execution_count": null,
   "metadata": {},
   "outputs": [],
   "source": [
    "# 혼동 행렬(confusion matrix)을 계산\n",
    "confusion_matrix(df['y_test'], df['y_pred'])\n",
    "\n",
    "# 분류 보고서(classification report)를 생성하여 모델의 성능 지표를 제공\n",
    "# Precision: 모델이 Positive로 예측한 샘플 중 실제로 Positive인 비율.\n",
    "# Recall: 실제 Positive인 샘플 중에서 모델이 올바르게 예측한 비율.\n",
    "# F1-Score: Precision과 Recall의 조화 평균. 이 점수는 Precision과 Recall의 균형을 측정.\n",
    "# Support: 각 클래스에 속하는 샘플의 개수.\n",
    "classification_report(df['y_test'], df['y_pred'])\n",
    "\n",
    "\n",
    "print(classification_report(df['y_test'], df['y_pred']))"
   ]
  },
  {
   "cell_type": "code",
   "execution_count": 49,
   "metadata": {},
   "outputs": [
    {
     "data": {
      "text/plain": [
       "0.8"
      ]
     },
     "execution_count": 49,
     "metadata": {},
     "output_type": "execute_result"
    }
   ],
   "source": [
    "# 정확도(accuracy) 계산\n",
    "from sklearn.metrics import accuracy_score\n",
    "accuracy_score(df['y_test'], df['y_pred'])\n",
    "\n",
    "# 정밀도 (Precision Score) 계산\n",
    "from sklearn.metrics import precision_score\n",
    "precision_score(df['y_test'], df['y_pred'], average=None)\n",
    "\n",
    "# 재현율 (Recall Score) 계산\n",
    "from sklearn.metrics import recall_score\n",
    "recall_score(df['y_test'], df['y_pred'], average=None)\n",
    "\n",
    "# F1-점수 (F1 Score) 계산\n",
    "from sklearn.metrics import f1_score\n",
    "f1_score(df['y_test'], df['y_pred'], average=None)"
   ]
  },
  {
   "cell_type": "code",
   "execution_count": 50,
   "metadata": {},
   "outputs": [
    {
     "name": "stdout",
     "output_type": "stream",
     "text": [
      "439.5036496350372\n",
      "964.0\n",
      "1292.9635036496354\n",
      "3.3333333333333406\n"
     ]
    }
   ],
   "source": [
    "# 회귀 분석 결과를 평가하기 위해 잔차(residuals), SSE, SST, SSR, 그리고 AE를 계산하는 작업을 수행\n",
    "\n",
    "import pandas as pd\n",
    "\n",
    "# data['y']: 실제 값(종속 변수, y)이 포함된 열\n",
    "data = pd.read_excel(\"회귀예측.xlsx\")\n",
    "# pred['pred']: 회귀 모델에서 예측한 값(독립 변수, pred)이 포함된 열\n",
    "pred = pd.read_csv(\"pred.csv\")\n",
    "\n",
    "\n",
    "# 잔차(residuals)는 실제 값과 예측 값의 차이를 나타냄\n",
    "residuals = data['y']-pred['pred'] #잔차\n",
    "\n",
    "# SSE(Sum of Squared Errors, 잔차 제곱합)는 잔차의 제곱을 모두 더한 값\n",
    "SSE = (residuals**2).sum()\n",
    "print(SSE)\n",
    "\n",
    "# SST(Total Sum of Squares, 총 제곱합)은 실제 값과 평균 값 간의 차이를 제곱한 후 모두 더한 값\n",
    "SST = ((data['y']-data['y'].mean())**2).sum()\n",
    "print(SST)\n",
    "\n",
    "# SSR(Sum of Squares for Regression, 회귀 제곱합)은 예측 값과 실제 값의 평균 간의 차이를 제곱한 후 모두 더한 값\n",
    "SSR = ((pred['pred'] - data['y'].mean())**2).sum()\n",
    "print(SSR)\n",
    "\n",
    "# AE(Average Error, 평균 오차)는 실제 값과 예측 값 간의 차이의 평균을 계산한 값\n",
    "AE = ((data['y'] - pred['pred']).sum())/6\n",
    "print(AE)"
   ]
  },
  {
   "cell_type": "code",
   "execution_count": 51,
   "metadata": {},
   "outputs": [
    {
     "name": "stdout",
     "output_type": "stream",
     "text": [
      "4.958637469586378\n",
      "73.2506082725062\n",
      "8.558656919897315\n",
      "0.08751420459298238\n"
     ]
    },
    {
     "name": "stderr",
     "output_type": "stream",
     "text": [
      "/Users/sindongseong/DsStudy/konkuk-da/myenv/lib/python3.9/site-packages/sklearn/metrics/_regression.py:492: FutureWarning: 'squared' is deprecated in version 1.4 and will be removed in 1.6. To calculate the root mean squared error, use the function'root_mean_squared_error'.\n",
      "  warnings.warn(\n"
     ]
    }
   ],
   "source": [
    "# 다양한 회귀 모델 성능 평가 지표를 사용하여 \n",
    "# 평균 절대 오차(MAE), 평균 제곱 오차(MSE), 평균 제곱근 오차(RMSE), \n",
    "# 평균 절대 백분율 오차(MAPE)를 계산하는 작업을 수행\n",
    "\n",
    "# MAE(평균 절대 오차)는 실제 값과 예측 값의 차이의 절대값을 평균한 값\n",
    "from sklearn.metrics import mean_absolute_error\n",
    "MAE = mean_absolute_error(data['y'], pred['pred'])\n",
    "print(MAE)\n",
    "\n",
    "# MSE(평균 제곱 오차)는 예측 오차의 제곱을 평균한 값\n",
    "from sklearn.metrics import mean_squared_error\n",
    "MSE = mean_squared_error(data['y'], pred['pred'])\n",
    "print(MSE)\n",
    "\n",
    "# RMSE(평균 제곱근 오차)는 MSE의 제곱근으로, MSE에서 제곱의 단위를 원래 스케일로 되돌리기 위한 값\n",
    "from sklearn.metrics import mean_squared_error\n",
    "RMSE = mean_squared_error(data['y'], pred['pred'], squared=False)\n",
    "print(RMSE)\n",
    "\n",
    "# MAPE(평균 절대 백분율 오차)는 실제 값과 예측 값 사이의 차이를 백분율로 나타낸 것\n",
    "from sklearn.metrics import mean_absolute_percentage_error\n",
    "MAPE = mean_absolute_percentage_error(data['y'], pred['pred'])\n",
    "print(MAPE)"
   ]
  }
 ],
 "metadata": {
  "kernelspec": {
   "display_name": "myenv",
   "language": "python",
   "name": "python3"
  },
  "language_info": {
   "codemirror_mode": {
    "name": "ipython",
    "version": 3
   },
   "file_extension": ".py",
   "mimetype": "text/x-python",
   "name": "python",
   "nbconvert_exporter": "python",
   "pygments_lexer": "ipython3",
   "version": "3.9.6"
  }
 },
 "nbformat": 4,
 "nbformat_minor": 2
}
