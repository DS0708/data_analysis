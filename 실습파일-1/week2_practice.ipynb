{
 "cells": [
  {
   "cell_type": "code",
   "execution_count": 2,
   "metadata": {},
   "outputs": [
    {
     "name": "stdout",
     "output_type": "stream",
     "text": [
      "   c0  c1  c2  c3\n",
      "0   0   1   4   7\n",
      "1   1   2   5   8\n",
      "2   2   3   6   9\n",
      "    0   1   2   3\n",
      "0  c0  c1  c2  c3\n",
      "1   0   1   4   7\n",
      "2   1   2   5   8\n",
      "3   2   3   6   9\n",
      "   c0  c1  c2  c3\n",
      "0   0   1   4   7\n",
      "1   1   2   5   8\n",
      "2   2   3   6   9\n",
      "    c0  c2  c3\n",
      "c1            \n",
      "1    0   4   7\n",
      "2    1   5   8\n",
      "3    2   6   9\n"
     ]
    }
   ],
   "source": [
    "import pandas as pd \n",
    "\n",
    "file_path = 'read_csv_sample.csv'\n",
    "# 첫 번째 행을 컬럼 이름으로 사용\n",
    "df1 = pd.read_csv(file_path) \n",
    "print(df1)\n",
    "# 파일의 첫 번째 행을 데이터로 간주하고 자동으로 정수 인덱스를 컬럼 이름으로 할당\n",
    "df2 = pd.read_csv(file_path, header=None) \n",
    "print(df2)\n",
    "# 인덱스 컬럼을 명시적으로 지정하지 않음을 의미합니다. 이 경우 pandas는 자동으로 0부터 시작하는 정수 인덱스를 생성\n",
    "df3 = pd.read_csv(file_path, index_col=None) \n",
    "print(df3)\n",
    "# 지정된 컬럼('c1')을 DataFrame의 인덱스로 사용합니다. 이는 해당 컬럼의 값이 각 행의 고유 식별자 역할을 하게 됨\n",
    "df4 = pd.read_csv(file_path, index_col='c1')\n",
    "print(df4)"
   ]
  },
  {
   "cell_type": "code",
   "execution_count": 3,
   "metadata": {},
   "outputs": [
    {
     "name": "stdout",
     "output_type": "stream",
     "text": [
      "      mpg  cylinders  displacement  horsepower  weight  acceleration  \\\n",
      "0    18.0          8         307.0       130.0    3504          12.0   \n",
      "1    15.0          8         350.0       165.0    3693          11.5   \n",
      "2    18.0          8         318.0       150.0    3436          11.0   \n",
      "3    16.0          8         304.0       150.0    3433          12.0   \n",
      "4    17.0          8         302.0       140.0    3449          10.5   \n",
      "..    ...        ...           ...         ...     ...           ...   \n",
      "393  27.0          4         140.0        86.0    2790          15.6   \n",
      "394  44.0          4          97.0        52.0    2130          24.6   \n",
      "395  32.0          4         135.0        84.0    2295          11.6   \n",
      "396  28.0          4         120.0        79.0    2625          18.6   \n",
      "397  31.0          4         119.0        82.0    2720          19.4   \n",
      "\n",
      "     model_year  origin                       name  \n",
      "0            70     usa  chevrolet chevelle malibu  \n",
      "1            70     usa          buick skylark 320  \n",
      "2            70     usa         plymouth satellite  \n",
      "3            70     usa              amc rebel sst  \n",
      "4            70     usa                ford torino  \n",
      "..          ...     ...                        ...  \n",
      "393          82     usa            ford mustang gl  \n",
      "394          82  europe                  vw pickup  \n",
      "395          82     usa              dodge rampage  \n",
      "396          82     usa                ford ranger  \n",
      "397          82     usa                 chevy s-10  \n",
      "\n",
      "[398 rows x 9 columns]\n"
     ]
    }
   ],
   "source": [
    "import pandas as pd \n",
    "\n",
    "# header=0 옵션은 파일의 첫 번째 행을 데이터의 컬럼 이름으로 사용하라는 의미\n",
    "df2 = pd.read_csv('mpg.csv', header=0)\n",
    "print(df2)"
   ]
  },
  {
   "cell_type": "code",
   "execution_count": 6,
   "metadata": {},
   "outputs": [
    {
     "name": "stdout",
     "output_type": "stream",
     "text": [
      "   id       name  price   amount\n",
      "0   1      apple    5000       5\n",
      "1   2     pencil     500      42\n",
      "2   3  pineapple    8000       5\n",
      "3   4        pen    1500      10\n",
      "\n",
      "['\\ufeffid', 'name', 'price ', 'amount']\n",
      "['1', 'apple', '5000', '5']\n",
      "['2', 'pencil', '500', '42']\n",
      "['3', 'pineapple', '8000', '5']\n",
      "['4', 'pen', '1500', '10']\n"
     ]
    }
   ],
   "source": [
    "import csv\n",
    "import pandas as pd \n",
    "\n",
    "dataCSV = pd.read_csv('data.csv')\n",
    "print(dataCSV)\n",
    "\n",
    "print()\n",
    "\n",
    "# 파일을 \"r\"을 사용해 읽기모드로 읽음\n",
    "f = open(\"data.csv\", \"r\")\n",
    "# csv.reader는 파일의 각 행을 콤마(,)로 구분된 값들의 리스트로 변환하여 반환\n",
    "reader = csv.reader(f)\n",
    "for row in reader:\n",
    "    print(row)"
   ]
  },
  {
   "cell_type": "code",
   "execution_count": 7,
   "metadata": {},
   "outputs": [
    {
     "name": "stdout",
     "output_type": "stream",
     "text": [
      "      algol basic c++\n",
      "name                 \n",
      "Jerry     A     C  B+\n",
      "Riah     A+     B   C\n",
      "Paul      B    B+  C+\n"
     ]
    }
   ],
   "source": [
    "import pandas as pd\n",
    "data = {'name' : [ 'Jerry', 'Riah', 'Paul'],\n",
    "'algol' : [ \"A\", \"A+\", \"B\"],\n",
    "'basic' : [ \"C\", \"B\", \"B+\"],\n",
    "'c++' : [ \"B+\", \"C\", \"C+\"]}\n",
    "df = pd.DataFrame(data)\n",
    "# DataFrame의 인덱스를 name 컬럼으로 설정, inplace=True는 변경 사항을 원본 DataFrame에 바로 적용하라는 의미\n",
    "df.set_index('name', inplace=True) \n",
    "print(df)\n",
    "df.to_csv(\"df_sample.csv\")"
   ]
  },
  {
   "cell_type": "code",
   "execution_count": 8,
   "metadata": {},
   "outputs": [
    {
     "name": "stdout",
     "output_type": "stream",
     "text": [
      "      age height weight\n",
      "name                   \n",
      "Minsu  20    180     80\n",
      "Juhee  25    150     45\n",
      "Sujin  28    170     55\n"
     ]
    }
   ],
   "source": [
    "# 위에꺼 또 다른 예시\n",
    "import pandas as pd\n",
    "data = {'name': ['Minsu', 'Juhee', 'Sujin'],\n",
    "        'age': [\"20\", \"25\", \"28\"],\n",
    "        'height': [\"180\", \"150\", \"170\"],\n",
    "        'weight': [\"80\", \"45\", \"55\"]}\n",
    "df2 = pd.DataFrame(data)\n",
    "df2.set_index('name', inplace=True)\n",
    "print(df2)\n",
    "df2.to_csv(\"df_sample2.csv\")"
   ]
  },
  {
   "cell_type": "code",
   "execution_count": 9,
   "metadata": {},
   "outputs": [
    {
     "name": "stdout",
     "output_type": "stream",
     "text": [
      "['dave', 'david']\n",
      "['apple', '2']\n",
      "['korea', 'japan', 'china']\n"
     ]
    }
   ],
   "source": [
    "import csv\n",
    "# test.csv 파일을 쓰기 모드('w')로 열고, UTF-8 인코딩을 사용\n",
    "# newline=''은 파일에 데이터를 쓸 때 입력된 데이터 사이에 자동으로 추가되는 줄바꿈을 방지하는 옵션\n",
    "with open('test.csv', 'w', encoding='utf-8', newline='') as writer_csv:\n",
    "    # 열린 파일에 대해 CSV 작성자(writer) 객체를 생성\n",
    "    # delimiter=','는 필드 사이를 구분하는 데 사용되는 문자로 콤마(,)를 지정\n",
    "    writer = csv.writer(writer_csv, delimiter=',')\n",
    "    writer.writerow(['dave', 'david'])\n",
    "    writer.writerow(['apple', 2])\n",
    "    writer.writerow(['korea', 'japan', 'china'])\n",
    "    \n",
    "# write한 test.csv 읽기\n",
    "with open('test.csv', 'r', encoding='utf-8') as reader_csv:\n",
    "    reader = csv.reader(reader_csv, delimiter=',')\n",
    "    \n",
    "    for row in reader:\n",
    "        print(row)"
   ]
  },
  {
   "cell_type": "code",
   "execution_count": 10,
   "metadata": {},
   "outputs": [
    {
     "name": "stdout",
     "output_type": "stream",
     "text": [
      "   c0  c1  c2  c3\n",
      "0   0   1   4   7\n",
      "1   1   2   5   8\n",
      "2   2   3   6   9\n",
      "   c0  c1  c2  c3\n",
      "0   0   1   4   7\n",
      "1   1   2   5   8\n",
      "2   2   3   6   9\n"
     ]
    }
   ],
   "source": [
    "import pandas as pd \n",
    "file_path1 = 'read_tsv_sample1.tsv'\n",
    "file_path2 = 'read_tsv_sample2.tsv'\n",
    "df1 = pd.read_csv(file_path1, sep = '\\t')  #열려는 파일이 tsv 파일인 경우\n",
    "print(df1)\n",
    "df2 = pd.read_csv(file_path2, sep = ' ') # 공백을 기준으로 내용이 구분된 txt파일 인 경우\n",
    "print(df2)"
   ]
  },
  {
   "cell_type": "code",
   "execution_count": 11,
   "metadata": {},
   "outputs": [],
   "source": [
    "\n",
    "data = {'Name' : ['John Doe' , 'Jane Smith'] ,\n",
    "         'Age' : [25, 30] ,\n",
    "         'Country' : ['USA' , 'Canada']}\n",
    "df = pd.DataFrame(data)\n",
    "df.to_csv('output.tsv',sep='\\t',index=False)"
   ]
  },
  {
   "cell_type": "code",
   "execution_count": 12,
   "metadata": {},
   "outputs": [
    {
     "name": "stdout",
     "output_type": "stream",
     "text": [
      "  전력량 (억㎾h) 발전 전력별  1990  1991  1992  1993  1994  1995  1996  1997  ...  2007  \\\n",
      "0        남한     합계  1077  1186  1310  1444  1650  1847  2055  2244  ...  4031   \n",
      "1       NaN     수력    64    51    49    60    41    55    52    54  ...    50   \n",
      "2       NaN     화력   484   573   696   803  1022  1122  1264  1420  ...  2551   \n",
      "3       NaN    원자력   529   563   565   581   587   670   739   771  ...  1429   \n",
      "4       NaN    신재생     -     -     -     -     -     -     -     -  ...     -   \n",
      "5        북한     합계   277   263   247   221   231   230   213   193  ...   236   \n",
      "6       NaN     수력   156   150   142   133   138   142   125   107  ...   133   \n",
      "7       NaN     화력   121   113   105    88    93    88    88    86  ...   103   \n",
      "8       NaN    원자력     -     -     -     -     -     -     -     -  ...     -   \n",
      "\n",
      "   2008  2009  2010  2011  2012  2013  2014  2015  2016  \n",
      "0  4224  4336  4747  4969  5096  5171  5220  5281  5404  \n",
      "1    56    56    65    78    77    84    78    58    66  \n",
      "2  2658  2802  3196  3343  3430  3581  3427  3402  3523  \n",
      "3  1510  1478  1486  1547  1503  1388  1564  1648  1620  \n",
      "4     -     -     -     -    86   118   151   173   195  \n",
      "5   255   235   237   211   215   221   216   190   239  \n",
      "6   141   125   134   132   135   139   130   100   128  \n",
      "7   114   110   103    79    80    82    86    90   111  \n",
      "8     -     -     -     -     -     -     -     -     -  \n",
      "\n",
      "[9 rows x 29 columns]\n",
      "          0       1     2     3     4     5     6     7     8     9   ...  \\\n",
      "0  전력량 (억㎾h)  발전 전력별  1990  1991  1992  1993  1994  1995  1996  1997  ...   \n",
      "1         남한      합계  1077  1186  1310  1444  1650  1847  2055  2244  ...   \n",
      "2        NaN      수력    64    51    49    60    41    55    52    54  ...   \n",
      "3        NaN      화력   484   573   696   803  1022  1122  1264  1420  ...   \n",
      "4        NaN     원자력   529   563   565   581   587   670   739   771  ...   \n",
      "5        NaN     신재생     -     -     -     -     -     -     -     -  ...   \n",
      "6         북한      합계   277   263   247   221   231   230   213   193  ...   \n",
      "7        NaN      수력   156   150   142   133   138   142   125   107  ...   \n",
      "8        NaN      화력   121   113   105    88    93    88    88    86  ...   \n",
      "9        NaN     원자력     -     -     -     -     -     -     -     -  ...   \n",
      "\n",
      "     19    20    21    22    23    24    25    26    27    28  \n",
      "0  2007  2008  2009  2010  2011  2012  2013  2014  2015  2016  \n",
      "1  4031  4224  4336  4747  4969  5096  5171  5220  5281  5404  \n",
      "2    50    56    56    65    78    77    84    78    58    66  \n",
      "3  2551  2658  2802  3196  3343  3430  3581  3427  3402  3523  \n",
      "4  1429  1510  1478  1486  1547  1503  1388  1564  1648  1620  \n",
      "5     -     -     -     -     -    86   118   151   173   195  \n",
      "6   236   255   235   237   211   215   221   216   190   239  \n",
      "7   133   141   125   134   132   135   139   130   100   128  \n",
      "8   103   114   110   103    79    80    82    86    90   111  \n",
      "9     -     -     -     -     -     -     -     -     -     -  \n",
      "\n",
      "[10 rows x 29 columns]\n"
     ]
    }
   ],
   "source": [
    "import pandas as pd\n",
    "df1 = pd.read_excel('남북한발전전력량.xlsx')\n",
    "df2 = pd.read_excel('남북한발전전력량.xlsx', header=None)\n",
    "print(df1)\n",
    "print(df2)"
   ]
  },
  {
   "cell_type": "code",
   "execution_count": 13,
   "metadata": {},
   "outputs": [
    {
     "name": "stdout",
     "output_type": "stream",
     "text": [
      "      algol basic c++\n",
      "name                 \n",
      "Jerry     A     C  B+\n",
      "Riah     A+     B   C\n",
      "Paul      B    B+  C+\n"
     ]
    }
   ],
   "source": [
    "import pandas as pd\n",
    "\n",
    "data = {'name' : [ 'Jerry', 'Riah', 'Paul'],\n",
    "        'algol' : [ \"A\", \"A+\", \"B\"],\n",
    "        'basic' : [ \"C\", \"B\", \"B+\"],\n",
    "        'c++' : [ \"B+\", \"C\", \"C+\"],\n",
    "        }\n",
    "\n",
    "df = pd.DataFrame(data)\n",
    "df.set_index('name', inplace=True)\n",
    "print(df)\n",
    "# .xlsx 파일은 사실상 압축된 ZIP 파일, 내부적으로는 XML 형식을 사용하여 데이터를 저장\n",
    "df.to_excel(\"df_sample.xlsx\")"
   ]
  },
  {
   "cell_type": "code",
   "execution_count": 14,
   "metadata": {},
   "outputs": [],
   "source": [
    "import pandas as pd\n",
    "\n",
    "data1 = {'name' : [ 'Jerry', 'Riah', 'Paul'], 'algol' : [ \"A\", \"A+\", \"B\"], \n",
    "          'basic' : [ \"C\", \"B\", \"B+\"], 'c++' : [ \"B+\", \"C\", \"C+\"]}\n",
    "data2 = {'c0':[1,2,3], 'c1':[4,5,6], 'c2':[7,8,9], 'c3':[10,11,12], 'c4':[13,14,15]}\n",
    "\n",
    "# inplace=True는 변경 사항을 원본 DataFrame에 바로 적용하라는 의미\n",
    "df1 = pd.DataFrame(data1)\n",
    "df1.set_index('name', inplace=True) \n",
    "\n",
    "df2 = pd.DataFrame(data2)\n",
    "df2.set_index('c0', inplace=True)\n",
    "\n",
    "# 엑셀 파일에 쓰기\n",
    "writer = pd.ExcelWriter(\"df_excelwriter.xlsx\")\n",
    "df1.to_excel(writer, sheet_name=\"sheet1\")\n",
    "df2.to_excel(writer, sheet_name=\"sheet2\")\n",
    "writer.close()"
   ]
  },
  {
   "cell_type": "code",
   "execution_count": 15,
   "metadata": {},
   "outputs": [
    {
     "name": "stdout",
     "output_type": "stream",
     "text": [
      "2\n",
      "tables[0]\n",
      "   Unnamed: 0  c0  c1  c2  c3\n",
      "0           0   0   1   4   7\n",
      "1           1   1   2   5   8\n",
      "2           2   2   3   6   9\n",
      "\n",
      "\n",
      "tables[1]\n",
      "         name  year        developer  opensource\n",
      "0       NumPy  2006  Travis Oliphant        True\n",
      "1  matplotlib  2003   John D. Hunter        True\n",
      "2      pandas  2008    Wes Mckinneye        True\n",
      "\n",
      "\n",
      "            year        developer  opensource\n",
      "name                                         \n",
      "NumPy       2006  Travis Oliphant        True\n",
      "matplotlib  2003   John D. Hunter        True\n",
      "pandas      2008    Wes Mckinneye        True\n"
     ]
    }
   ],
   "source": [
    "import pandas as pd\n",
    "\n",
    "url ='sample.html'\n",
    "tables = pd.read_html(url)\n",
    "print(len(tables))\n",
    "\n",
    "for i in range(len(tables)):\n",
    "    print(\"tables[%s]\" % i)\n",
    "    print(tables[i])\n",
    "    print('\\n')\n",
    "\n",
    "df = tables[1] \n",
    "\n",
    "df.set_index(['name'], inplace=True)\n",
    "print(df)"
   ]
  },
  {
   "cell_type": "code",
   "execution_count": 16,
   "metadata": {},
   "outputs": [
    {
     "name": "stdout",
     "output_type": "stream",
     "text": [
      "        apple  banana\n",
      "price    2000    4000\n",
      "weight     50      70\n"
     ]
    }
   ],
   "source": [
    "import pandas as pd\n",
    "df1 = pd.read_json('test.json')\n",
    "print(df1)"
   ]
  },
  {
   "cell_type": "code",
   "execution_count": 23,
   "metadata": {},
   "outputs": [
    {
     "name": "stdout",
     "output_type": "stream",
     "text": [
      "{\"apple\": {\"price\": \"2000\", \"weight\": \"50\"}, \"banana\": {\"price\": \"4000\", \"weight\": \"70\"}}\n",
      "2000\n",
      "7000\n"
     ]
    }
   ],
   "source": [
    "import json\n",
    "# with open('test.json', 'r') as f: 'test.json' 파일을 읽기 모드('r')로 열고,\n",
    "# 이 파일 객체를 f로 지정\n",
    "# with 구문은 파일 작업을 마친 후 자동으로 파일을 닫아주는 컨텍스트 매니저 역할\n",
    "with open('test2.json', 'r') as f:\n",
    "    # 열린 JSON 파일에서 데이터를 읽어 파이썬 객체로 변환\n",
    "    # 이 경우, json_data는 JSON 파일의 내용을 담고 있는 파이썬 딕셔너리가 됨\n",
    "    json_data = json.load(f)\n",
    "# json.dumps 함수는 파이썬 객체(json_data)를 JSON 형식의 문자열로 변환하여 출력\n",
    "print(json.dumps(json_data))\n",
    "\n",
    "# key값으로 value 찾기\n",
    "apple_price = json_data['apple']['price']\n",
    "print(apple_price)\n",
    "\n",
    "# key값으로 value 수정\n",
    "json_data['apple']['price'] = \"7000\"\n",
    "print(json_data['apple']['price'])"
   ]
  },
  {
   "cell_type": "code",
   "execution_count": 21,
   "metadata": {},
   "outputs": [
    {
     "name": "stdout",
     "output_type": "stream",
     "text": [
      "{'K5': {'price': '5000', 'year': '2015'}, 'Avante': {'price': '3000', 'year': '2014'}}\n",
      "{\n",
      "\t\"K5\": {\n",
      "\t\t\"price\": \"5000\",\n",
      "\t\t\"year\": \"2015\"\n",
      "\t},\n",
      "\t\"Avante\": {\n",
      "\t\t\"price\": \"3000\",\n",
      "\t\t\"year\": \"2014\"\n",
      "\t}\n",
      "}\n"
     ]
    }
   ],
   "source": [
    "# dict -> json 테스트 1\n",
    "import json\n",
    "\n",
    "car_group = dict()\n",
    "\n",
    "k5 = dict()\n",
    "k5[\"price\"] = \"5000\"\n",
    "k5[\"year\"] = \"2015\"\n",
    "car_group[\"K5\"] = k5\n",
    "\n",
    "avante = dict()\n",
    "avante[\"price\"] = \"3000\"\n",
    "avante[\"year\"] = \"2014\"\n",
    "car_group[\"Avante\"] = avante\n",
    "print(car_group)\n",
    "\n",
    "# car_group 딕셔너리를 JSON 형식으로 make_file 파일에 직렬화\n",
    "# indent=\"\\t\"는 JSON 데이터를 보기 좋게 탭으로 들여쓰기하여 저장\n",
    "with open('test.json', 'w', encoding='utf-8') as make_file:\n",
    "    json.dump(car_group, make_file, indent=\"\\t\")\n",
    "    \n",
    "with open('test.json', 'r') as f:\n",
    "    json_data = json.load(f)\n",
    "# json_data 객체를 다시 JSON 형식의 문자열로 변환하여 탭으로 들여쓰기된 형태로 출력\n",
    "print(json.dumps(json_data, indent=\"\\t\") )"
   ]
  },
  {
   "cell_type": "code",
   "execution_count": 22,
   "metadata": {},
   "outputs": [
    {
     "name": "stdout",
     "output_type": "stream",
     "text": [
      "{\n",
      "\t\"apple\": {\n",
      "\t\t\"price\": \"2000\",\n",
      "\t\t\"weight\": \"50\"\n",
      "\t},\n",
      "\t\"banana\": {\n",
      "\t\t\"price\": \"4000\",\n",
      "\t\t\"weight\": \"70\"\n",
      "\t}\n",
      "}\n"
     ]
    }
   ],
   "source": [
    "# dict -> json 테스트 2\n",
    "import json\n",
    "fruit_group = dict()\n",
    "\n",
    "apple = dict()\n",
    "apple['price'] = '2000'\n",
    "apple['weight'] = '50'\n",
    "fruit_group['apple'] = apple\n",
    "\n",
    "banana = dict()\n",
    "banana['price'] = '4000'\n",
    "banana['weight'] = '70'\n",
    "fruit_group['banana'] = banana\n",
    "\n",
    "with open('test2.json', 'w', encoding='utf-8') as make_file:\n",
    "    json.dump(fruit_group, make_file, indent='\\t')\n",
    "    \n",
    "with open('test2.json', 'r') as f:\n",
    "    json_data = json.load(f)\n",
    "print(json.dumps(json_data, indent=\"\\t\") )"
   ]
  },
  {
   "cell_type": "code",
   "execution_count": 33,
   "metadata": {},
   "outputs": [
    {
     "name": "stdout",
     "output_type": "stream",
     "text": [
      "The Great Gatsby 200.0\n",
      "To Kill a Mockingbird 150.0\n",
      "1984 180.0\n"
     ]
    }
   ],
   "source": [
    "# XML 데이터를 처리하기 위한 Python의 표준 라이브러리\n",
    "import xml.etree.ElementTree as ET\n",
    "xml_path = \"library.xml\"\n",
    "# 수정할 xml읽기\n",
    "with open(xml_path) as f:\n",
    "    # ET.parse(f) 함수는 파일 객체 f에서 XML 데이터를 읽고, 이를 ElementTree 객체로 파싱\n",
    "    # ElementTree 객체는 전체 XML 문서를 나타내며, 이 객체를 통해 문서의 다양한 부분에 접근하고 조작할 수 있다.\n",
    "    tree = ET.parse(f)\n",
    "    # 파싱된 XML 트리(tree)에서 루트 요소를 추출\n",
    "    # 이 root 객체를 사용하여 XML 문서의 다른 요소에 접근하거나, 문서의 구조를 탐색할 수 있다.\n",
    "    root = tree.getroot()\n",
    "    \n",
    "    \n",
    "# 각 'book' 요소의 'price' 요소의 값을 10배 증가\n",
    "tag = 'book'\n",
    "for child in root.iter(tag):\n",
    "    price_element = child.find('price')  # 'price' 요소 찾기\n",
    "    if price_element is not None:\n",
    "        original_price = float(price_element.text)  # 원래 가격 읽기\n",
    "        new_price = 10 * original_price  # 가격 10배로 증가\n",
    "        price_element.text = str(new_price)  # 새 가격으로 업데이트\n",
    "        print(child.find('title').text, price_element.text)  # 새 가격 출력\n",
    "    \n",
    "# 수정된 사항 library.xml에 반영하기\n",
    "\n",
    "# XML 파일을 저장할 경로와 파일 이름을 지정\n",
    "xml_save_path = \"library.xml\"\n",
    "# 지정된 경로에 파일을 바이너리 쓰기 모드(\"wb\")로 연다.\n",
    "# XML 파일을 쓸 때는 바이너리 모드를 사용하는 것이 일반적이고, 이렇게 하면 인코딩 문제를 피할 수 있다.\n",
    "with open(xml_save_path, \"wb\") as file:\n",
    "    # encoding='utf-8': 파일의 문자 인코딩을 UTF-8로 지정\n",
    "    # xml_declaration=True : XML 선언(<?xml version=\"1.0\" encoding=\"UTF-8\"?>)을 파일의 맨 위에 추가\n",
    "    tree.write(file, encoding='utf-8', xml_declaration=True)"
   ]
  }
 ],
 "metadata": {
  "kernelspec": {
   "display_name": "myenv",
   "language": "python",
   "name": "python3"
  },
  "language_info": {
   "codemirror_mode": {
    "name": "ipython",
    "version": 3
   },
   "file_extension": ".py",
   "mimetype": "text/x-python",
   "name": "python",
   "nbconvert_exporter": "python",
   "pygments_lexer": "ipython3",
   "version": "3.9.6"
  }
 },
 "nbformat": 4,
 "nbformat_minor": 2
}
