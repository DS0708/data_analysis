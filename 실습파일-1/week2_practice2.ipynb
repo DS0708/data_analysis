{
 "cells": [
  {
   "cell_type": "code",
   "execution_count": 2,
   "metadata": {},
   "outputs": [
    {
     "name": "stdout",
     "output_type": "stream",
     "text": [
      "<class 'dict'>\n",
      "{'AUS': '오스트레일리아', 'KOR': '대한민국', 'USA': '미국'}\n"
     ]
    }
   ],
   "source": [
    "# 실습 1\n",
    "oecd_cnty={'AUS': '오스트레일리아',\n",
    "            'KOR': '대한민국',\n",
    "            'USA': '미국'}\n",
    "\n",
    "#json파일 저장\n",
    "import json\n",
    "with open('ex1.json', 'w') as f:\n",
    "    # json.dump : 파이썬의 dict 객체를 JSON형태로 변환\n",
    "    # ensure_ascii=True (기본 설정)로 두면 JSON 데이터를 ASCII 호환 가능한 형식으로 저장,\n",
    "    # 이 경우 모든 비-ASCII 문자는 유니코드 이스케이프 시퀀스 (예: \\uXXXX) 형태로 변환되어 저장된다.\n",
    "    json.dump(oecd_cnty, f)\n",
    "\n",
    "#json파일 불러오기\n",
    "import json\n",
    "with open('ex1.json') as f:\n",
    "    data = json.load(f)\n",
    "\n",
    "print(type(data))\n",
    "\n",
    "print(data)"
   ]
  },
  {
   "cell_type": "code",
   "execution_count": 3,
   "metadata": {},
   "outputs": [],
   "source": [
    "# 실습 2\n",
    "\n",
    "from xml.etree.ElementTree import Element, SubElement, ElementTree\n",
    "\n",
    "# 루트 요소 <Countries>를 생성\n",
    "root = Element(\"Countries\")\n",
    "# <Korea> 요소를 생성하고, 이를 루트 요소 <Countries>의 자식으로 추가\n",
    "element1 = Element(\"Korea\")\n",
    "root.append(element1)\n",
    "# <Korea> 요소의 하위 요소로 <City>를 생성하고, 이 요소의 텍스트를 \"Seoul\"로 설정\n",
    "sub_element1 = SubElement(element1, \"City\")\n",
    "sub_element1.text = \"Seoul\"\n",
    "\n",
    "# 루트 요소 자식 하나 더 추가\n",
    "element2 = Element(\"Japanese\")\n",
    "root.append(element2)\n",
    "\n",
    "sub_element2 = SubElement(element2, \"City\")\n",
    "sub_element2.text = \"Tokyo\"\n",
    "\n",
    "# 생성된 XML 구조를 포함하는 ElementTree 객체를 초기화\n",
    "# 이 객체는 전체 XML 문서를 나타내며 파일로 저장하는 데 사용\n",
    "tree = ElementTree(root)\n",
    "\n",
    "# \"example.xml\" 파일을 바이너리 쓰기 모드(\"wb\")로 열고, \n",
    "# tree.write 메소드를 사용하여 XML 데이터를 UTF-8 인코딩으로 파일에 저장\n",
    "fileName = \"example.xml\"\n",
    "with open(fileName, \"wb\") as file:\n",
    "    # xml_declaration=True는 XML 선언(<?xml version=\"1.0\" encoding=\"UTF-8\"?>)을 파일 맨 위에 추가\n",
    "    tree.write(file, encoding='utf-8', xml_declaration=True)"
   ]
  },
  {
   "cell_type": "code",
   "execution_count": 4,
   "metadata": {},
   "outputs": [
    {
     "name": "stdout",
     "output_type": "stream",
     "text": [
      "{'SAM': '2', 'TOM': '1', 'JAMY': '3'}\n"
     ]
    }
   ],
   "source": [
    "# Quiz 1 : 파이썬 dict 객체를 json으로 변환하여 저장하고 불러오기\n",
    "class_num={'SAM': '2',\n",
    "            'TOM': '1',\n",
    "            'JAMY': '3'}\n",
    "\n",
    "#json파일 저장\n",
    "import json\n",
    "with open('A1.json', 'w') as f:\n",
    "    json.dump(class_num, f)\n",
    "\n",
    "#json파일 불러오기\n",
    "import json\n",
    "with open('A1.json') as f:\n",
    "    data = json.load(f)\n",
    "\n",
    "type(data)\n",
    "\n",
    "print(data)"
   ]
  },
  {
   "cell_type": "code",
   "execution_count": 5,
   "metadata": {},
   "outputs": [],
   "source": [
    "# Quiz 2 : 파이썬의 dict를 pandas의 DataFrame 객체로 변환하고 excel파일로 저장하기\n",
    "import pandas as pd\n",
    "\n",
    "ex = {'math':[90, 80, 98], 'eng':[70, 100, 87], 'python':[100, 80, 80]}\n",
    "df = pd.DataFrame(ex)\n",
    "df.to_excel('Q2.xlsx')"
   ]
  },
  {
   "cell_type": "code",
   "execution_count": 6,
   "metadata": {},
   "outputs": [
    {
     "name": "stdout",
     "output_type": "stream",
     "text": [
      "{'apple': {'price': '1000', 'date': '2023-2-5'}, 'banana': {'price': '3000', 'date': '2023-3-12'}}\n"
     ]
    }
   ],
   "source": [
    "# Quiz 3 : 파이썬의 dict로 복잡한 json 구조 형성하고 이를 json파일에 저장하고 로드\n",
    "import json\n",
    "\n",
    "fruit_group = dict()\n",
    "\n",
    "apple = dict()\n",
    "apple[\"price\"] = \"1000\"\n",
    "apple[\"date\"] = \"2023-2-5\"\n",
    "fruit_group[\"apple\"] = apple\n",
    "\n",
    "banana = dict()\n",
    "banana[\"price\"] = \"3000\"\n",
    "banana[\"date\"] = \"2023-3-12\"\n",
    "fruit_group[\"banana\"] = banana\n",
    "\n",
    "with open('Q3.json', 'w') as f:\n",
    "    json.dump(fruit_group, f)\n",
    "\n",
    "with open('Q3.json') as f:\n",
    "    Q3 = json.load(f)\n",
    "type(Q3)\n",
    "\n",
    "print(Q3)"
   ]
  }
 ],
 "metadata": {
  "kernelspec": {
   "display_name": "myenv",
   "language": "python",
   "name": "python3"
  },
  "language_info": {
   "codemirror_mode": {
    "name": "ipython",
    "version": 3
   },
   "file_extension": ".py",
   "mimetype": "text/x-python",
   "name": "python",
   "nbconvert_exporter": "python",
   "pygments_lexer": "ipython3",
   "version": "3.9.6"
  }
 },
 "nbformat": 4,
 "nbformat_minor": 2
}
